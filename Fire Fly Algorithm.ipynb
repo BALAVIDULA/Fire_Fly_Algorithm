{
  "nbformat": 4,
  "nbformat_minor": 0,
  "metadata": {
    "colab": {
      "provenance": []
    },
    "kernelspec": {
      "name": "python3",
      "display_name": "Python 3"
    },
    "language_info": {
      "name": "python"
    }
  },
  "cells": [
    {
      "cell_type": "code",
      "execution_count": 1,
      "metadata": {
        "colab": {
          "base_uri": "https://localhost:8080/"
        },
        "id": "ozfiZ-7OvUkX",
        "outputId": "1c952ffe-e362-444b-9455-d31f6d484e86"
      },
      "outputs": [
        {
          "output_type": "stream",
          "name": "stdout",
          "text": [
            "Requirement already satisfied: numpy in /usr/local/lib/python3.10/dist-packages (1.25.2)\n",
            "Requirement already satisfied: scikit-learn in /usr/local/lib/python3.10/dist-packages (1.2.2)\n",
            "Requirement already satisfied: matplotlib in /usr/local/lib/python3.10/dist-packages (3.7.1)\n",
            "Requirement already satisfied: scipy>=1.3.2 in /usr/local/lib/python3.10/dist-packages (from scikit-learn) (1.11.4)\n",
            "Requirement already satisfied: joblib>=1.1.1 in /usr/local/lib/python3.10/dist-packages (from scikit-learn) (1.3.2)\n",
            "Requirement already satisfied: threadpoolctl>=2.0.0 in /usr/local/lib/python3.10/dist-packages (from scikit-learn) (3.3.0)\n",
            "Requirement already satisfied: contourpy>=1.0.1 in /usr/local/lib/python3.10/dist-packages (from matplotlib) (1.2.0)\n",
            "Requirement already satisfied: cycler>=0.10 in /usr/local/lib/python3.10/dist-packages (from matplotlib) (0.12.1)\n",
            "Requirement already satisfied: fonttools>=4.22.0 in /usr/local/lib/python3.10/dist-packages (from matplotlib) (4.49.0)\n",
            "Requirement already satisfied: kiwisolver>=1.0.1 in /usr/local/lib/python3.10/dist-packages (from matplotlib) (1.4.5)\n",
            "Requirement already satisfied: packaging>=20.0 in /usr/local/lib/python3.10/dist-packages (from matplotlib) (24.0)\n",
            "Requirement already satisfied: pillow>=6.2.0 in /usr/local/lib/python3.10/dist-packages (from matplotlib) (9.4.0)\n",
            "Requirement already satisfied: pyparsing>=2.3.1 in /usr/local/lib/python3.10/dist-packages (from matplotlib) (3.1.2)\n",
            "Requirement already satisfied: python-dateutil>=2.7 in /usr/local/lib/python3.10/dist-packages (from matplotlib) (2.8.2)\n",
            "Requirement already satisfied: six>=1.5 in /usr/local/lib/python3.10/dist-packages (from python-dateutil>=2.7->matplotlib) (1.16.0)\n"
          ]
        }
      ],
      "source": [
        "pip install numpy scikit-learn matplotlib"
      ]
    },
    {
      "cell_type": "code",
      "source": [
        "import numpy as np\n",
        "from sklearn.datasets import make_classification\n",
        "from sklearn.model_selection import train_test_split\n",
        "from sklearn.linear_model import LogisticRegression\n",
        "from sklearn.metrics import accuracy_score\n",
        "\n",
        "# Generate a synthetic dataset\n",
        "X, y = make_classification(n_samples=100, n_features=10, n_informative=5, n_redundant=5, random_state=42)\n",
        "X_train, X_test, y_train, y_test = train_test_split(X, y, test_size=0.25, random_state=42)\n",
        "\n",
        "# Firefly Algorithm Parameters\n",
        "n_fireflies = 10\n",
        "max_gen = 20\n",
        "\n",
        "alpha = 0.5  # Randomness strength\n",
        "absorption_coefficient = 1.0\n",
        "\n",
        "# Initialize fireflies randomly\n",
        "dim = X_train.shape[1]\n",
        "population = np.random.rand(n_fireflies, dim) > 0.5\n",
        "\n",
        "def evaluate_firefly(firefly):\n",
        "    # Select features based on firefly's position\n",
        "    features_to_use = firefly.astype(bool)\n",
        "    if np.sum(features_to_use) == 0:\n",
        "        return 0  # Can't use zero features\n",
        "    X_train_subset = X_train[:, features_to_use]\n",
        "    X_test_subset = X_test[:, features_to_use]\n",
        "\n",
        "    # Train a simple model\n",
        "    model = LogisticRegression(max_iter=1000)\n",
        "    model.fit(X_train_subset, y_train)\n",
        "    predictions = model.predict(X_test_subset)\n",
        "    return accuracy_score(y_test, predictions)\n",
        "\n",
        "def move_firefly(fi, fj, beta0=1.0, gamma=1.0):\n",
        "    \"\"\"Move firefly i towards firefly j.\"\"\"\n",
        "    # Convert boolean arrays to integers\n",
        "    fi_int = fi.astype(int)\n",
        "    fj_int = fj.astype(int)\n",
        "\n",
        "    r = np.linalg.norm(fi_int - fj_int)\n",
        "    beta = beta0 * np.exp(-gamma * r ** 2)\n",
        "    new_solution = fi_int + beta * (fj_int - fi_int) + alpha * (np.random.rand(dim) - 0.5)\n",
        "    new_solution = np.clip(new_solution, 0, 1)\n",
        "    return new_solution > 0.5\n",
        "\n",
        "# Main loop of the Firefly Algorithm\n",
        "for gen in range(max_gen):\n",
        "    fitness = np.array([evaluate_firefly(ff) for ff in population])\n",
        "    print(f\"Generation {gen}, best fitness: {np.max(fitness)}\")\n",
        "\n",
        "    new_population = population.copy()\n",
        "    for i in range(n_fireflies):\n",
        "        for j in range(n_fireflies):\n",
        "            if fitness[i] < fitness[j]:  # Move i towards j\n",
        "                new_solution = move_firefly(population[i], population[j])\n",
        "                new_fitness = evaluate_firefly(new_solution)\n",
        "                if new_fitness > fitness[i]:\n",
        "                    new_population[i] = new_solution\n",
        "                    fitness[i] = new_fitness\n",
        "    population = new_population"
      ],
      "metadata": {
        "colab": {
          "base_uri": "https://localhost:8080/"
        },
        "id": "G4ieDRPBva3x",
        "outputId": "b2395b44-35e8-4878-b9e8-6b4557480aba"
      },
      "execution_count": 2,
      "outputs": [
        {
          "output_type": "stream",
          "name": "stdout",
          "text": [
            "Generation 0, best fitness: 0.96\n",
            "Generation 1, best fitness: 0.96\n",
            "Generation 2, best fitness: 0.96\n",
            "Generation 3, best fitness: 0.96\n",
            "Generation 4, best fitness: 0.96\n",
            "Generation 5, best fitness: 0.96\n",
            "Generation 6, best fitness: 0.96\n",
            "Generation 7, best fitness: 0.96\n",
            "Generation 8, best fitness: 0.96\n",
            "Generation 9, best fitness: 0.96\n",
            "Generation 10, best fitness: 0.96\n",
            "Generation 11, best fitness: 0.96\n",
            "Generation 12, best fitness: 0.96\n",
            "Generation 13, best fitness: 0.96\n",
            "Generation 14, best fitness: 0.96\n",
            "Generation 15, best fitness: 0.96\n",
            "Generation 16, best fitness: 0.96\n",
            "Generation 17, best fitness: 0.96\n",
            "Generation 18, best fitness: 0.96\n",
            "Generation 19, best fitness: 0.96\n"
          ]
        }
      ]
    },
    {
      "cell_type": "code",
      "source": [
        "# Final evaluation\n",
        "best_fitness_index = np.argmax([evaluate_firefly(ff) for ff in population])\n",
        "best_firefly = population[best_fitness_index]\n",
        "best_features_to_use = best_firefly.astype(bool)\n",
        "\n",
        "# Training and evaluating the model with the selected features\n",
        "X_train_best = X_train[:, best_features_to_use]\n",
        "X_test_best = X_test[:, best_features_to_use]\n",
        "best_model = LogisticRegression(max_iter=1000)\n",
        "best_model.fit(X_train_best, y_train)\n",
        "predictions_best = best_model.predict(X_test_best)\n",
        "final_accuracy = accuracy_score(y_test, predictions_best)\n",
        "\n",
        "print(f\"Final Best Accuracy: {final_accuracy:.4f}\")\n",
        "print(f\"Features Selected ({np.sum(best_features_to_use)} out of {dim}): {np.where(best_features_to_use)[0]}\")"
      ],
      "metadata": {
        "colab": {
          "base_uri": "https://localhost:8080/"
        },
        "id": "0s1CDcmPv3t5",
        "outputId": "9a351809-ffc5-4ee3-a7ee-2d268d59b814"
      },
      "execution_count": 3,
      "outputs": [
        {
          "output_type": "stream",
          "name": "stdout",
          "text": [
            "Final Best Accuracy: 0.9600\n",
            "Features Selected (4 out of 10): [2 4 7 8]\n"
          ]
        }
      ]
    }
  ]
}